{
 "cells": [
  {
   "cell_type": "code",
   "execution_count": 122,
   "metadata": {},
   "outputs": [
    {
     "name": "stdout",
     "output_type": "stream",
     "text": [
      "r [[[-0.11617039]\n",
      "  [ 2.2125063 ]]]\n",
      "jax log_wfi dumb -1.0731523 with shape ()\n",
      "jax log_wfi smart -2.7578166 with shape ()\n",
      "jax grad [[ 0.4608419 -0.4608419]] with shape (1, 2)\n"
     ]
    }
   ],
   "source": [
    "import jax\n",
    "import jax.numpy as jnp\n",
    "from jax import vmap\n",
    "from jax import random\n",
    "import numpy as np\n",
    "class testClass:\n",
    "    def __init__(self, N, dim):\n",
    "        self._N = N\n",
    "        self._dim = dim\n",
    "        self.la = jax.numpy.linalg\n",
    "\n",
    "    def log_wfi_dumb(self, r, params): # dumb because JW does not need to be (N, N), it can be (N*(N-1)//2, )\n",
    "        epsilon = 1e-6  # Small epsilon value\n",
    "        r_cpy = r.reshape(-1, self._N, self._dim)\n",
    "        r_diff = r_cpy[:, None, :, :] - r_cpy[:, :, None, :]\n",
    "        r_dist = self.la.norm(r_diff + epsilon, axis=-1)  # Add epsilon to avoid nan\n",
    "\n",
    "        rij = jnp.triu(r_dist, k=1)\n",
    "\n",
    "        x = jnp.einsum('nij,ij->n', rij, params['JW_dumb'])\n",
    "        \n",
    "        return x.squeeze(-1)\n",
    "    \n",
    "    def log_wfi_smart(self, r, params):\n",
    "        epsilon = 1e-6  # Small epsilon value for stability\n",
    "        r_cpy = r.reshape(-1, self._N, self._dim)\n",
    "        r_diff = r_cpy[:, None, :, :] - r_cpy[:, :, None, :]\n",
    "        r_dist = self.la.norm(r_diff + epsilon, axis=-1)  # Add epsilon to avoid nan\n",
    "        \n",
    "        rij = jnp.triu(r_dist, k=1)\n",
    "        \n",
    "        # Generate indices for the upper triangular matrix excluding diagonal\n",
    "        triu_indices = jnp.triu_indices(self._N, k=1)\n",
    "        k = triu_indices[0] * (self._N - 1) - triu_indices[0] * (triu_indices[0] + 1) // 2 + triu_indices[1] - triu_indices[0] - 1\n",
    "        \n",
    "        # Use these indices to select the corresponding elements from the JW_smart vector\n",
    "        JW_smart = params['JW_smart'][k]\n",
    "        \n",
    "        # Perform the element-wise multiplication and sum\n",
    "        x = jnp.einsum('nij,i->n', rij, JW_smart)\n",
    "        \n",
    "        return x.squeeze(-1)\n",
    "\n",
    "    \n",
    "    # jax grad\n",
    "    def grad_log_wfi_dumb(self, r, params):\n",
    "        return vmap(jax.grad(self.log_wfi_dumb, argnums=0), in_axes=(0, None))(r, params)\n",
    "\n",
    "\n",
    "    def grad_log_wfi_smart(self, r, params):\n",
    "        return vmap(jax.grad(self.log_wfi_smart, argnums=0), in_axes=(0, None))(r, params)\n",
    "        \n",
    "        \n",
    "    \n",
    "# initialize r with shape (nbatch, particles * dim)\n",
    "nbatch = 1\n",
    "N = 2\n",
    "dim = 1\n",
    "key = random.PRNGKey(1)\n",
    "r = random.normal(key, (nbatch, N * dim))\n",
    "\n",
    "print(\"r\", r.reshape(-1, N, dim))\n",
    "# initialize params\n",
    "\n",
    "params_dumb = {'JW_dumb': random.normal(key, (N, N))}\n",
    "params_smart = {'JW_smart': random.normal(key, (N * (N-1) // 2, ))}\n",
    "\n",
    "# grad\n",
    "# instantiate the class\n",
    "your_class = testClass(N, dim)\n",
    "your_class.log_wfi_dumb(r, params_dumb)\n",
    "\n",
    "#print the forward pass\n",
    "log_wfi = your_class.log_wfi_dumb(r, params_dumb)\n",
    "print(\"jax log_wfi dumb\", log_wfi, \"with shape\", log_wfi.shape)\n",
    "log_wfi = your_class.log_wfi_smart(r, params_smart)\n",
    "print(\"jax log_wfi smart\", log_wfi, \"with shape\", log_wfi.shape)\n",
    "\n",
    "grad_log_wfi = your_class.grad_log_wfi_dumb(r, params_dumb)\n",
    "print(\"jax grad\", grad_log_wfi, \"with shape\", grad_log_wfi.shape)\n",
    "\n"
   ]
  },
  {
   "cell_type": "code",
   "execution_count": 13,
   "metadata": {},
   "outputs": [
    {
     "data": {
      "text/plain": [
       "Array([[ 0.18784384, -1.2833426 , -0.2710917 ,  1.2490594 ,  0.24447003]],      dtype=float32)"
      ]
     },
     "execution_count": 13,
     "metadata": {},
     "output_type": "execute_result"
    }
   ],
   "source": [
    "r = np.random.randn(nbatch, N * dim)\n",
    "# mode 1\n",
    "r_reshaped = r.reshape(-1, N, dim)\n",
    "for i in range(N):\n",
    "    # access particle i\n",
    "    print(\"particle\", i, r_reshaped[:, i, :])\n",
    "\n",
    "# mode 2\n",
    "# instead of reshaping, use strided access\n",
    "for i in range(0, N*dim, dim):\n",
    "    print(\"particle\", i // dim, r[i:i+dim])"
   ]
  },
  {
   "cell_type": "code",
   "execution_count": null,
   "metadata": {},
   "outputs": [],
   "source": []
  }
 ],
 "metadata": {
  "kernelspec": {
   "display_name": "Python 3.10.12 ('.venv': poetry)",
   "language": "python",
   "name": "python3"
  },
  "language_info": {
   "codemirror_mode": {
    "name": "ipython",
    "version": 3
   },
   "file_extension": ".py",
   "mimetype": "text/x-python",
   "name": "python",
   "nbconvert_exporter": "python",
   "pygments_lexer": "ipython3",
   "version": "3.10.12"
  },
  "orig_nbformat": 4,
  "vscode": {
   "interpreter": {
    "hash": "540899a6d5f72233f45842563b6aafa756d796888aa192a1b7fe41908bbe83fa"
   }
  }
 },
 "nbformat": 4,
 "nbformat_minor": 2
}
