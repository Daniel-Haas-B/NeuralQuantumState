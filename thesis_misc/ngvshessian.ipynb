{
 "cells": [
  {
   "cell_type": "markdown",
   "metadata": {},
   "source": [
    "$$C(\\theta) = \\frac{1}{2}\\theta^T A\\theta - b^T\\theta$$\n",
    "\n",
    "Then we know minimum is at $\\theta^* = A^{-1}b$\n"
   ]
  },
  {
   "cell_type": "markdown",
   "metadata": {},
   "source": [
    "Gradient: $\\nabla C = A\\theta - b$\n",
    "\n",
    "\n",
    "Hessian: $H(\\theta) = A$\n",
    "\n",
    "FIM: $F = \\mathbb{E}_{x \\sim p}\\left[(\\nabla_\\theta \\log p(x | \\theta))(\\nabla_\\theta \\log p(x | \\theta))^\\top\\right].$\n",
    "\n",
    "\n",
    "OBS: Fisher Information Matrix F is the Hessian of KL-divergence between two distributions p(x|θ) and p(x|θ′), with respect to θ′, evaluated at θ′=θ.\n",
    "\n",
    "----------------"
   ]
  },
  {
   "cell_type": "markdown",
   "metadata": {},
   "source": [
    "**GD**:    $x_{new} = x_{old} - \\alpha \\nabla f(x_{old})$\n",
    "\n",
    "\n",
    "**Newton's**:    $x_{new} = x_{old} - \\alpha H^{-1}(x_{old}) \\nabla f(x_{old})$\n",
    "\n",
    "**Natural Gradient**: $x_{new} = x_{old} - \\alpha F^{-1}(x_{old}) \\nabla f(x_{old})$"
   ]
  },
  {
   "cell_type": "code",
   "execution_count": 7,
   "metadata": {},
   "outputs": [
    {
     "ename": "TracerArrayConversionError",
     "evalue": "The numpy.ndarray conversion method __array__() was called on traced array with shape float32[1000,5].\nThe error occurred while tracing the function compute_fisher_information at /var/folders/gg/pt9rjjws0_b60pgd3qk984140000gn/T/ipykernel_67205/3185997918.py:28 for jit. This concrete value was not available in Python because it depends on the values of the arguments params[0], params[1], x, and y.\nSee https://jax.readthedocs.io/en/latest/errors.html#jax.errors.TracerArrayConversionError",
     "output_type": "error",
     "traceback": [
      "\u001b[0;31m---------------------------------------------------------------------------\u001b[0m",
      "\u001b[0;31mAttributeError\u001b[0m                            Traceback (most recent call last)",
      "File \u001b[0;32m~/Documents/Masters/GANQS/.venv/lib/python3.10/site-packages/numpy/core/fromnumeric.py:2022\u001b[0m, in \u001b[0;36mshape\u001b[0;34m(a)\u001b[0m\n\u001b[1;32m   2021\u001b[0m \u001b[39mtry\u001b[39;00m:\n\u001b[0;32m-> 2022\u001b[0m     result \u001b[39m=\u001b[39m a\u001b[39m.\u001b[39;49mshape\n\u001b[1;32m   2023\u001b[0m \u001b[39mexcept\u001b[39;00m \u001b[39mAttributeError\u001b[39;00m:\n",
      "\u001b[0;31mAttributeError\u001b[0m: 'tuple' object has no attribute 'shape'",
      "\nDuring handling of the above exception, another exception occurred:\n",
      "\u001b[0;31mTracerArrayConversionError\u001b[0m                Traceback (most recent call last)",
      "Cell \u001b[0;32mIn[7], line 41\u001b[0m\n\u001b[1;32m     38\u001b[0m \u001b[38;5;66;03m# Initialize parameters\u001b[39;00m\n\u001b[1;32m     39\u001b[0m params \u001b[38;5;241m=\u001b[39m (jnp\u001b[38;5;241m.\u001b[39mzeros(dim), jnp\u001b[38;5;241m.\u001b[39marray(\u001b[38;5;241m0.0\u001b[39m))\n\u001b[0;32m---> 41\u001b[0m fim \u001b[38;5;241m=\u001b[39m \u001b[43mcompute_fisher_information\u001b[49m\u001b[43m(\u001b[49m\u001b[43mparams\u001b[49m\u001b[43m,\u001b[49m\u001b[43m \u001b[49m\u001b[43mX\u001b[49m\u001b[43m,\u001b[49m\u001b[43m \u001b[49m\u001b[43my\u001b[49m\u001b[43m)\u001b[49m\n\u001b[1;32m     42\u001b[0m \u001b[38;5;28mprint\u001b[39m(\u001b[38;5;124mf\u001b[39m\u001b[38;5;124m\"\u001b[39m\u001b[38;5;124mFisher Information Matrix: \u001b[39m\u001b[38;5;130;01m\\n\u001b[39;00m\u001b[38;5;132;01m{\u001b[39;00mfim\u001b[38;5;132;01m}\u001b[39;00m\u001b[38;5;124m\"\u001b[39m)\n",
      "    \u001b[0;31m[... skipping hidden 12 frame]\u001b[0m\n",
      "Cell \u001b[0;32mIn[7], line 34\u001b[0m, in \u001b[0;36mcompute_fisher_information\u001b[0;34m(params, x, y)\u001b[0m\n\u001b[1;32m     31\u001b[0m grads \u001b[38;5;241m=\u001b[39m vmap(grad_log_lik, (\u001b[38;5;28;01mNone\u001b[39;00m, \u001b[38;5;241m0\u001b[39m, \u001b[38;5;241m0\u001b[39m))(params, x, y)\n\u001b[1;32m     33\u001b[0m \u001b[38;5;66;03m# Compute FIM\u001b[39;00m\n\u001b[0;32m---> 34\u001b[0m fim \u001b[38;5;241m=\u001b[39m jnp\u001b[38;5;241m.\u001b[39mmean(\u001b[43mjnp\u001b[49m\u001b[38;5;241;43m.\u001b[39;49m\u001b[43meinsum\u001b[49m\u001b[43m(\u001b[49m\u001b[38;5;124;43m'\u001b[39;49m\u001b[38;5;124;43mij,ik->ijk\u001b[39;49m\u001b[38;5;124;43m'\u001b[39;49m\u001b[43m,\u001b[49m\u001b[43m \u001b[49m\u001b[43mgrads\u001b[49m\u001b[43m,\u001b[49m\u001b[43m \u001b[49m\u001b[43mgrads\u001b[49m\u001b[43m)\u001b[49m, axis\u001b[38;5;241m=\u001b[39m\u001b[38;5;241m0\u001b[39m)\n\u001b[1;32m     36\u001b[0m \u001b[38;5;28;01mreturn\u001b[39;00m fim\n",
      "File \u001b[0;32m~/Documents/Masters/GANQS/.venv/lib/python3.10/site-packages/jax/_src/numpy/lax_numpy.py:3241\u001b[0m, in \u001b[0;36meinsum\u001b[0;34m(subscripts, out, optimize, precision, preferred_element_type, _use_xeinsum, _dot_general, *operands)\u001b[0m\n\u001b[1;32m   3237\u001b[0m optimize \u001b[39m=\u001b[39m \u001b[39m'\u001b[39m\u001b[39moptimal\u001b[39m\u001b[39m'\u001b[39m \u001b[39mif\u001b[39;00m optimize \u001b[39mis\u001b[39;00m \u001b[39mTrue\u001b[39;00m \u001b[39melse\u001b[39;00m optimize\n\u001b[1;32m   3238\u001b[0m \u001b[39m# using einsum_call=True here is an internal api for opt_einsum\u001b[39;00m\n\u001b[1;32m   3239\u001b[0m \n\u001b[1;32m   3240\u001b[0m \u001b[39m# Allow handling of shape polymorphism\u001b[39;00m\n\u001b[0;32m-> 3241\u001b[0m non_constant_dim_types \u001b[39m=\u001b[39m {\n\u001b[1;32m   3242\u001b[0m     \u001b[39mtype\u001b[39m(d) \u001b[39mfor\u001b[39;00m op \u001b[39min\u001b[39;00m operands \u001b[39mif\u001b[39;00m \u001b[39mnot\u001b[39;00m \u001b[39misinstance\u001b[39m(op, \u001b[39mstr\u001b[39m)\n\u001b[1;32m   3243\u001b[0m     \u001b[39mfor\u001b[39;00m d \u001b[39min\u001b[39;00m np\u001b[39m.\u001b[39mshape(op) \u001b[39mif\u001b[39;00m \u001b[39mnot\u001b[39;00m core\u001b[39m.\u001b[39mis_constant_dim(d)\n\u001b[1;32m   3244\u001b[0m }\n\u001b[1;32m   3245\u001b[0m \u001b[39mif\u001b[39;00m \u001b[39mnot\u001b[39;00m non_constant_dim_types:\n\u001b[1;32m   3246\u001b[0m   contract_path \u001b[39m=\u001b[39m opt_einsum\u001b[39m.\u001b[39mcontract_path\n",
      "File \u001b[0;32m~/Documents/Masters/GANQS/.venv/lib/python3.10/site-packages/jax/_src/numpy/lax_numpy.py:3243\u001b[0m, in \u001b[0;36m<setcomp>\u001b[0;34m(.0)\u001b[0m\n\u001b[1;32m   3237\u001b[0m optimize \u001b[39m=\u001b[39m \u001b[39m'\u001b[39m\u001b[39moptimal\u001b[39m\u001b[39m'\u001b[39m \u001b[39mif\u001b[39;00m optimize \u001b[39mis\u001b[39;00m \u001b[39mTrue\u001b[39;00m \u001b[39melse\u001b[39;00m optimize\n\u001b[1;32m   3238\u001b[0m \u001b[39m# using einsum_call=True here is an internal api for opt_einsum\u001b[39;00m\n\u001b[1;32m   3239\u001b[0m \n\u001b[1;32m   3240\u001b[0m \u001b[39m# Allow handling of shape polymorphism\u001b[39;00m\n\u001b[1;32m   3241\u001b[0m non_constant_dim_types \u001b[39m=\u001b[39m {\n\u001b[1;32m   3242\u001b[0m     \u001b[39mtype\u001b[39m(d) \u001b[39mfor\u001b[39;00m op \u001b[39min\u001b[39;00m operands \u001b[39mif\u001b[39;00m \u001b[39mnot\u001b[39;00m \u001b[39misinstance\u001b[39m(op, \u001b[39mstr\u001b[39m)\n\u001b[0;32m-> 3243\u001b[0m     \u001b[39mfor\u001b[39;00m d \u001b[39min\u001b[39;00m np\u001b[39m.\u001b[39;49mshape(op) \u001b[39mif\u001b[39;00m \u001b[39mnot\u001b[39;00m core\u001b[39m.\u001b[39mis_constant_dim(d)\n\u001b[1;32m   3244\u001b[0m }\n\u001b[1;32m   3245\u001b[0m \u001b[39mif\u001b[39;00m \u001b[39mnot\u001b[39;00m non_constant_dim_types:\n\u001b[1;32m   3246\u001b[0m   contract_path \u001b[39m=\u001b[39m opt_einsum\u001b[39m.\u001b[39mcontract_path\n",
      "File \u001b[0;32m~/Documents/Masters/GANQS/.venv/lib/python3.10/site-packages/numpy/core/fromnumeric.py:2024\u001b[0m, in \u001b[0;36mshape\u001b[0;34m(a)\u001b[0m\n\u001b[1;32m   2022\u001b[0m     result \u001b[39m=\u001b[39m a\u001b[39m.\u001b[39mshape\n\u001b[1;32m   2023\u001b[0m \u001b[39mexcept\u001b[39;00m \u001b[39mAttributeError\u001b[39;00m:\n\u001b[0;32m-> 2024\u001b[0m     result \u001b[39m=\u001b[39m asarray(a)\u001b[39m.\u001b[39mshape\n\u001b[1;32m   2025\u001b[0m \u001b[39mreturn\u001b[39;00m result\n",
      "File \u001b[0;32m~/Documents/Masters/GANQS/.venv/lib/python3.10/site-packages/jax/_src/core.py:611\u001b[0m, in \u001b[0;36mTracer.__array__\u001b[0;34m(self, *args, **kw)\u001b[0m\n\u001b[1;32m    610\u001b[0m \u001b[39mdef\u001b[39;00m \u001b[39m__array__\u001b[39m(\u001b[39mself\u001b[39m, \u001b[39m*\u001b[39margs, \u001b[39m*\u001b[39m\u001b[39m*\u001b[39mkw):\n\u001b[0;32m--> 611\u001b[0m   \u001b[39mraise\u001b[39;00m TracerArrayConversionError(\u001b[39mself\u001b[39m)\n",
      "\u001b[0;31mTracerArrayConversionError\u001b[0m: The numpy.ndarray conversion method __array__() was called on traced array with shape float32[1000,5].\nThe error occurred while tracing the function compute_fisher_information at /var/folders/gg/pt9rjjws0_b60pgd3qk984140000gn/T/ipykernel_67205/3185997918.py:28 for jit. This concrete value was not available in Python because it depends on the values of the arguments params[0], params[1], x, and y.\nSee https://jax.readthedocs.io/en/latest/errors.html#jax.errors.TracerArrayConversionError"
     ]
    }
   ],
   "source": [
    "import jax.numpy as jnp\n",
    "from jax import grad, jit, random, vmap\n",
    "from jax.scipy.special import logit, expit as sigmoid\n",
    "\n",
    "# Data simulation (for the sake of the example)\n",
    "key = random.PRNGKey(0)\n",
    "num_samples = 1000\n",
    "dim = 5\n",
    "X = random.normal(key, (num_samples, dim))\n",
    "true_w = jnp.array([1.5, -2.5, 2.0, 1.0, -1.0])\n",
    "true_b = -0.5\n",
    "logits = jnp.dot(X, true_w) + true_b\n",
    "probs = sigmoid(logits)\n",
    "y = random.bernoulli(key, probs)\n",
    "\n",
    "# Model and log likelihood\n",
    "def model(params, x):\n",
    "    w, b = params\n",
    "    return sigmoid(jnp.dot(x, w) + b)\n",
    "\n",
    "def neg_log_likelihood(params, x, y):\n",
    "    p = model(params, x)\n",
    "    return -jnp.mean(y * jnp.log(p) + (1 - y) * jnp.log(1 - p))\n",
    "\n",
    "# Gradient of the log likelihood\n",
    "grad_log_lik = grad(neg_log_likelihood)\n",
    "\n",
    "@jit\n",
    "def compute_fisher_information(params, x, y):\n",
    "    # Gradient of the log likelihood for each data point\n",
    "    grads = vmap(grad_log_lik, (None, 0, 0))(params, x, y)\n",
    "    \n",
    "    # Compute FIM\n",
    "    fim = jnp.mean(jnp.einsum('ij,ik->ijk', grads, grads), axis=0)\n",
    "    \n",
    "    return fim\n",
    "\n",
    "# Initialize parameters\n",
    "params = (jnp.zeros(dim), jnp.array(0.0))\n",
    "\n",
    "fim = compute_fisher_information(params, X, y)\n",
    "print(f\"Fisher Information Matrix: \\n{fim}\")\n"
   ]
  },
  {
   "cell_type": "markdown",
   "metadata": {},
   "source": []
  }
 ],
 "metadata": {
  "kernelspec": {
   "display_name": "Python 3.10.12 ('.venv': poetry)",
   "language": "python",
   "name": "python3"
  },
  "language_info": {
   "codemirror_mode": {
    "name": "ipython",
    "version": 3
   },
   "file_extension": ".py",
   "mimetype": "text/x-python",
   "name": "python",
   "nbconvert_exporter": "python",
   "pygments_lexer": "ipython3",
   "version": "3.10.12"
  },
  "orig_nbformat": 4,
  "vscode": {
   "interpreter": {
    "hash": "540899a6d5f72233f45842563b6aafa756d796888aa192a1b7fe41908bbe83fa"
   }
  }
 },
 "nbformat": 4,
 "nbformat_minor": 2
}
